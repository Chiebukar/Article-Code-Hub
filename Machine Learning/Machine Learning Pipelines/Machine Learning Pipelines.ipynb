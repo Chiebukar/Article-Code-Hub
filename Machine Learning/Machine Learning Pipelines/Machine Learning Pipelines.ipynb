{
 "cells": [
  {
   "cell_type": "code",
   "execution_count": null,
   "id": "d17fd9c0",
   "metadata": {},
   "outputs": [],
   "source": [
    "import pandas as pd"
   ]
  },
  {
   "cell_type": "code",
   "execution_count": null,
   "id": "694d0058",
   "metadata": {},
   "outputs": [],
   "source": [
    "dataframe = pd.read_csv(\"income.csv\")\n",
    "print(dataframe)"
   ]
  }
 ],
 "metadata": {
  "language_info": {
   "name": "python"
  }
 },
 "nbformat": 4,
 "nbformat_minor": 5
}
